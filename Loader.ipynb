{
 "cells": [
  {
   "cell_type": "code",
   "execution_count": 1,
   "metadata": {},
   "outputs": [
    {
     "name": "stdout",
     "output_type": "stream",
     "text": [
      "<class 'list'>\n",
      "1\n",
      "Metadata: {'source': './data/676_Application_of_GenAI.txt'}\n",
      "Page Content: Hi SIADS 676 students, Welcome to the class!!\n",
      "\n",
      "Today we will learn waht is document in context of langchain. Then we learn about different types of\n",
      "document loaders and we will have hands-on lab to learn those. These are the laoders that we will learn today:\n",
      "1- text Loader\n",
      "2- PDF Loader\n",
      "3- HTML Loader\n",
      "4- Webpage Loader\n",
      "5- Youtube Loader\n",
      "6- CSV Loader\n",
      "\n",
      "Then we learn how we can build the pipeline to chat with loaded documents. \n",
      "Hope you enjoy the class and learn a lot.\n",
      "Le'ts get started!\n",
      "\n",
      "\n",
      "\n",
      "\n",
      "Length of Text: 494\n"
     ]
    }
   ],
   "source": [
    "### 1. TextLoader\n",
    "import textwrap\n",
    "from langchain.document_loaders import TextLoader\n",
    "\n",
    "# Load Text\n",
    "loader = TextLoader(\"./data/676_Application_of_GenAI.txt\")\n",
    "data = loader.load()\n",
    "\n",
    "print(type(data))\n",
    "print(len(data))\n",
    "print(\"Metadata:\", data[0].metadata)\n",
    "print(\"Page Content:\", data[0].page_content)\n",
    "print(\"Length of Text:\", len(data[0].page_content))"
   ]
  },
  {
   "cell_type": "code",
   "execution_count": 2,
   "metadata": {},
   "outputs": [
    {
     "name": "stdout",
     "output_type": "stream",
     "text": [
      "<class 'list'>\n",
      "Length of DataFrame: 85\n",
      "Review Content: customer_id: HT-1000\n",
      "product_id: 100000000\n",
      "review: Three start. I have some issues like some keys don't work on first instance..and is somewhat slow also\n",
      "Metadata: {'source': './data/reviews.csv', 'row': 7}\n"
     ]
    }
   ],
   "source": [
    "### 2. CSV Loader\n",
    "from langchain_community.document_loaders.csv_loader import CSVLoader\n",
    "\n",
    "# Load CSV\n",
    "loader = CSVLoader(\"./data/reviews.csv\")\n",
    "review_data = loader.load()\n",
    "\n",
    "print(type(review_data))\n",
    "print(\"Length of DataFrame:\", len(review_data))\n",
    "print(\"Review Content:\", review_data[0].page_content)\n",
    "print(\"Metadata:\", review_data[7].metadata)"
   ]
  },
  {
   "cell_type": "code",
   "execution_count": 3,
   "metadata": {},
   "outputs": [
    {
     "name": "stdout",
     "output_type": "stream",
     "text": [
      "Number of PDF Pages: 10\n",
      "First Page Metadata: {'source': './data/Generative-AI-in-Real-World-Workplaces.pdf', 'page': 0}\n",
      "\n",
      "Sample Text:\n"
     ]
    },
    {
     "data": {
      "text/plain": [
       "['Generative AI in Real -World Workplaces   The Second Microsoft Report on AI and',\n",
       " 'Productivity Research       Editors:   Sonia Jaffe, Neha Parikh Shah, Jenna',\n",
       " 'Butler, Alex Farach, Alexia Cambon, Brent Hecht , Michael Schwarz, and Jaime',\n",
       " 'Teevan    Contributing Researchers :   Reid Andersen, Margarita Bermejo -Cano,',\n",
       " 'James Bono, Georg Buscher, Chacha Chen, Steven Clarke, Scott Counts , Eleanor',\n",
       " 'Dillon,   Ben Edelman, Ulrike Gruber -Gremlich, Cory Hilke, Ben Hanrahan, Sandra',\n",
       " 'Ho, Brian Houck, Mansi Khemka,  Viktor Kewenig,  Madeline Kleiner, Eric Knudsen,',\n",
       " 'Sathish Manivannan, Max Meijer, Jennifer Neville, Nam Ngo, Donald Ngwe, Ried',\n",
       " 'Peckham, Sida  Peng, Nora Presson,  Nagu Rangan , Reetchatha Rangareddy , Sean',\n",
       " 'Rintel, Roberto Rodriguez, Katie Rotella, Tara Safavi,  Advait  Sarkar, Ava',\n",
       " 'Elizabeth Scott, Abigail Sellen, Chirag Shah, Auste Simkute, Tyler Smith,',\n",
       " 'Shwetha Srinath, Siddharth Suri, An-Jen  Tai, Lev Tankelevitch, Mengting Wan,',\n",
       " 'Leijie Wang , Ryen White, and Longqi Yang    (with additional su']"
      ]
     },
     "execution_count": 3,
     "metadata": {},
     "output_type": "execute_result"
    }
   ],
   "source": [
    "### 3. PDF Loader\n",
    "from langchain_community.document_loaders import PyPDFLoader\n",
    "\n",
    "# Load PDF\n",
    "loader = PyPDFLoader(\"./data/Generative-AI-in-Real-World-Workplaces.pdf\")\n",
    "pdf_data = loader.load()\n",
    "\n",
    "print(\"Number of PDF Pages:\", len(pdf_data))\n",
    "print(\"First Page Metadata:\", pdf_data[0].metadata)\n",
    "print(\"\\nSample Text:\")\n",
    "textwrap.wrap(pdf_data[0].page_content[:1000], width=80)"
   ]
  },
  {
   "cell_type": "code",
   "execution_count": 4,
   "metadata": {},
   "outputs": [
    {
     "name": "stderr",
     "output_type": "stream",
     "text": [
      "USER_AGENT environment variable not set, consider setting it to identify your requests.\n"
     ]
    },
    {
     "data": {
      "text/plain": [
       "[Document(metadata={'source': 'https://www.coursera.org', 'title': 'Coursera | Degrees, Certificates, & Free Online Courses', 'description': 'Learn new job skills in online courses from industry leaders like Google, IBM, & Meta. Advance your career with top degrees from Michigan, Penn, Imperial & more.', 'language': 'en'}, page_content='Coursera | Degrees, Certificates, & Free Online Courses\\n\\n\\n\\n\\n\\nFor IndividualsFor BusinessesFor UniversitiesFor GovernmentsExploreOnline DegreesCareersLog InJoin for FreeBuild in-demand project management skills with the new Google Agile Essentials course. Enroll today!Learn without limitsStart, switch, or advance your career with more than 10,000 courses, Professional Certificates, and degrees from world-class universities and companies.Join For Free Try Coursera for Business We collaborate with 350+ leading universities and companiesChoose your roleGain the knowledge and skills you need to advance.Explore all rolesBeginner\\u200bPopularSoftware Engineering & ITBusinessSales & MarketingData Science & AnalyticsHealthcareExplore all rolesGet started with GenAIIdentify, develop, and execute impactful GenAI business strategies.View all GenAINewBeginnerPopularToolsView all GenAI¹Each university determines admission and the number of pre-approved prior learning credits that may count toward the degree requirements according to institutional policies, which may consider any existing credits you may have.Explore Coursera425 courses1095 courses668 coursesnumberOfCourses courses401 courses137 courses338 courses413 courses150 courses145 courses70 coursesLearner outcomes on Coursera77% of learners report career benefits, such as new skills, increased pay, and new job opportunities. 2023 Coursera Learner Outcomes ReportJoin for FreeFrom the Coursera community168+ million people have already joined CourseraDrive your business forward by empowering your talent Train teams with industry-leading experts and universities, enhanced by AI tools and recognized credentials.Discover Coursera for BusinessUpskill a small team?Check out Coursera for TeamsTake the next step toward your personal and professional goals with Coursera.Join now to receive personalized recommendations from the full Coursera catalog.Join for Free¹ Median salary and job opening data are sourced from Lightcast™ Job Postings Report.\\n  Content Creator, Machine Learning Engineer and Salesforce Development Representative (1/1/2024 - 12/31/2024)\\n  All other job roles (3/1/2024 - 3/1/2025)Coursera FooterTechnical SkillsChatGPTCodingComputer ScienceCybersecurityDevOpsEthical HackingGenerative AIJava ProgrammingPythonWeb DevelopmentAnalytical SkillsArtificial IntelligenceBig DataBusiness AnalysisData AnalyticsData ScienceFinancial ModelingMachine LearningMicrosoft ExcelMicrosoft Power BISQLBusiness SkillsAccountingDigital MarketingE-commerceFinanceGoogleGraphic DesignIBMMarketingProject ManagementSocial Media MarketingCareer ResourcesEssential IT CertificationsHigh-Income Skills to LearnHow to Get a PMP CertificationHow to Learn Artificial IntelligencePopular Cybersecurity CertificationsPopular Data Analytics CertificationsWhat Does a Data Analyst Do?Career Education ArticlesCareer Development ResourcesCareer Aptitude TestCourseraAboutWhat We OfferLeadershipCareersCatalogCoursera PlusProfessional CertificatesMasterTrack® CertificatesDegreesFor EnterpriseFor GovernmentFor CampusBecome a PartnerSocial ImpactFree CoursesECTS Credit RecommendationsCommunityLearnersPartnersBeta TestersBlogThe Coursera PodcastTech BlogTeaching CenterMorePressInvestorsTermsPrivacyHelpAccessibilityContactArticlesDirectoryAffiliatesModern Slavery StatementDo Not Sell/ShareLearn Anywhere© 2025 Coursera Inc. All rights reserved.\\n\\n')]"
      ]
     },
     "execution_count": 4,
     "metadata": {},
     "output_type": "execute_result"
    }
   ],
   "source": [
    "### 4. WebLoader\n",
    "from langchain_community.document_loaders import WebBaseLoader\n",
    "\n",
    "# Load Web Page\n",
    "loader = WebBaseLoader(\"https://www.coursera.org\")\n",
    "web_data = loader.load()\n",
    "web_data"
   ]
  }
 ],
 "metadata": {
  "kernelspec": {
   "display_name": "Python 3",
   "language": "python",
   "name": "python3"
  },
  "language_info": {
   "codemirror_mode": {
    "name": "ipython",
    "version": 3
   },
   "file_extension": ".py",
   "mimetype": "text/x-python",
   "name": "python",
   "nbconvert_exporter": "python",
   "pygments_lexer": "ipython3",
   "version": "3.10.12"
  }
 },
 "nbformat": 4,
 "nbformat_minor": 2
}
