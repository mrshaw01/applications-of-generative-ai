{
 "cells": [
  {
   "cell_type": "code",
   "execution_count": 1,
   "metadata": {},
   "outputs": [
    {
     "data": {
      "text/plain": [
       "ChatBedrockConverse(disable_streaming='tool_calling', client=<botocore.client.BedrockRuntime object at 0x77d7ca364430>, model_id='us.meta.llama3-1-70b-instruct-v1:0', region_name='us-east-1', provider='us', supports_tool_choice_values=())"
      ]
     },
     "execution_count": 1,
     "metadata": {},
     "output_type": "execute_result"
    }
   ],
   "source": [
    "## Introduction & Model Setup\n",
    "from langchain_aws.chat_models import ChatBedrockConverse\n",
    "\n",
    "model = ChatBedrockConverse(model=\"us.meta.llama3-1-70b-instruct-v1:0\", region_name=\"us-east-1\")\n",
    "model"
   ]
  },
  {
   "cell_type": "code",
   "execution_count": 2,
   "metadata": {},
   "outputs": [
    {
     "data": {
      "text/plain": [
       "[SystemMessage(content='You are an expert instructional agent who replies briefly.', additional_kwargs={}, response_metadata={}),\n",
       " HumanMessage(content='How would I get the number of items in a Python list?', additional_kwargs={}, response_metadata={}),\n",
       " AIMessage(content='len', additional_kwargs={}, response_metadata={}),\n",
       " HumanMessage(content='How do I multiply two numbers in Python?', additional_kwargs={}, response_metadata={}),\n",
       " AIMessage(content='*', additional_kwargs={}, response_metadata={}),\n",
       " HumanMessage(content='What is the Python keyword for defining a function?', additional_kwargs={}, response_metadata={}),\n",
       " AIMessage(content='def', additional_kwargs={}, response_metadata={}),\n",
       " HumanMessage(content='How do I determine what class an object is in python?', additional_kwargs={}, response_metadata={})]"
      ]
     },
     "metadata": {},
     "output_type": "display_data"
    },
    {
     "name": "stdout",
     "output_type": "stream",
     "text": [
      "Few Shot Prompting Response: \n",
      "\n",
      "type()\n",
      "\n",
      "No Examples Prompting Response: \n",
      "\n",
      "You can use the `type()` function to determine the class of an object in Python. For example:\n",
      "\n",
      "`obj = \"Hello, World!\"`\n",
      "`print(type(obj))  # Output: <class 'str'>`\n",
      "\n",
      "Alternatively, you can use the `isinstance()` function to check if an object is an instance of a specific class:\n",
      "\n",
      "`print(isinstance(obj, str))  # Output: True`\n"
     ]
    }
   ],
   "source": [
    "## Few Shot Prompting\n",
    "from langchain_core.prompts import (ChatPromptTemplate,\n",
    "                                    FewShotChatMessagePromptTemplate,\n",
    "                                    HumanMessagePromptTemplate,\n",
    "                                    SystemMessagePromptTemplate)\n",
    "\n",
    "sys = SystemMessagePromptTemplate.from_template(\"You are an expert instructional agent who replies briefly.\")\n",
    "\n",
    "examples = [\n",
    "    {\"human_message\": \"How would I get the number of items in a Python list?\", \"ai_message\": \"len\"},\n",
    "    {\"human_message\": \"How do I multiply two numbers in Python?\", \"ai_message\": \"*\"},\n",
    "    {\"human_message\": \"What is the Python keyword for defining a function?\", \"ai_message\": \"def\"},\n",
    "]\n",
    "example_prompt = ChatPromptTemplate.from_messages([(\"human\", \"{human_message}\"), (\"ai\", \"{ai_message}\")])\n",
    "examples_prompt = FewShotChatMessagePromptTemplate(examples=examples, example_prompt=example_prompt)\n",
    "\n",
    "question = HumanMessagePromptTemplate.from_template(\"How do I determine what class an object is in python?\")\n",
    "\n",
    "full_prompt = sys + examples_prompt + question\n",
    "display(full_prompt.format_messages())\n",
    "\n",
    "few_shot_chain = full_prompt | model\n",
    "no_examples_chain = (sys + question) | model\n",
    "\n",
    "few_shot_results = few_shot_chain.invoke({})\n",
    "no_examples_results = no_examples_chain.invoke({})\n",
    "\n",
    "print(\"Few Shot Prompting Response:\", few_shot_results.content)\n",
    "print(\"\\nNo Examples Prompting Response:\", no_examples_results.content)"
   ]
  },
  {
   "cell_type": "code",
   "execution_count": 3,
   "metadata": {},
   "outputs": [
    {
     "name": "stdout",
     "output_type": "stream",
     "text": [
      "*Without COT*\n",
      "\n",
      "\n",
      "According to the United States Census Bureau (2020 estimates), the fourth most populous state in the United States is Florida, with an estimated population of approximately 21.76 million people.\n",
      "\n",
      "Here are the top 5 most populous states in the US:\n",
      "\n",
      "1. California - approximately 39.51 million people\n",
      "2. Texas - approximately 29.74 million people\n",
      "3. Florida - approximately 21.76 million people\n",
      "4. New York - approximately 20.20 million people\n",
      "5. Pennsylvania - approximately 12.77 million people\n",
      "\n",
      "Note: These numbers are estimates based on 2020 data and may have changed slightly since then due to various factors such as population growth, migration, and other demographic changes.\n",
      "\n",
      "*With COT*\n",
      "\n",
      "\n",
      "To determine the fourth most populous state in the United States, let's break it down step by step:\n",
      "\n",
      "**Step 1: Identify the 50 states and their populations**\n",
      "According to the United States Census Bureau, the 50 states and their estimated populations as of 2020 are:\n",
      "\n",
      "**Step 2: Sort the states by population**\n",
      "We'll sort the states in descending order by population. We can start with the top 5 most populous states:\n",
      "\n",
      "1. California - approximately 39.5 million people\n",
      "2. Texas - approximately 29.7 million people\n",
      "3. Florida - approximately 21.7 million people\n",
      "4. New York - approximately 20.2 million people\n",
      "\n",
      "**Answer**\n",
      "Based on the population estimates, the fourth most populous state in the United States is **New York**, with approximately 20.2 million people.\n",
      "\n",
      "How's that? Did we get it right?\n"
     ]
    }
   ],
   "source": [
    "## Chain of Thought Prompting\n",
    "task = \"What is the fourth most populous state in the united states? {addition_instructions}\"\n",
    "prompt = ChatPromptTemplate([(\"human\", task)])\n",
    "chain = prompt | model\n",
    "\n",
    "results = chain.batch(\n",
    "    [\n",
    "        {\"addition_instructions\": \"\"},\n",
    "        {\"addition_instructions\": \"Let's think step by step.\"},\n",
    "    ]\n",
    ")\n",
    "\n",
    "print(\"*Without COT*\")\n",
    "print(results[0].content)\n",
    "print(\"\\n*With COT*\")\n",
    "print(results[1].content)"
   ]
  }
 ],
 "metadata": {
  "kernelspec": {
   "display_name": "Python 3",
   "language": "python",
   "name": "python3"
  },
  "language_info": {
   "codemirror_mode": {
    "name": "ipython",
    "version": 3
   },
   "file_extension": ".py",
   "mimetype": "text/x-python",
   "name": "python",
   "nbconvert_exporter": "python",
   "pygments_lexer": "ipython3",
   "version": "3.10.12"
  }
 },
 "nbformat": 4,
 "nbformat_minor": 2
}
