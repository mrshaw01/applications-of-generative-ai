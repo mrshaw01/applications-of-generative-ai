{
 "cells": [
  {
   "cell_type": "code",
   "execution_count": 1,
   "metadata": {},
   "outputs": [],
   "source": [
    "from langchain.docstore.document import Document\n",
    "from langchain_chroma import Chroma\n",
    "from langchain_huggingface.embeddings import HuggingFaceEmbeddings"
   ]
  },
  {
   "cell_type": "code",
   "execution_count": 2,
   "metadata": {},
   "outputs": [
    {
     "name": "stderr",
     "output_type": "stream",
     "text": [
      "/usr/local/lib/python3.10/dist-packages/sentence_transformers/cross_encoder/CrossEncoder.py:13: TqdmExperimentalWarning: Using `tqdm.autonotebook.tqdm` in notebook mode. Use `tqdm.tqdm` instead to force console mode (e.g. in jupyter console)\n",
      "  from tqdm.autonotebook import tqdm, trange\n"
     ]
    }
   ],
   "source": [
    "# Section: Embedding Model\n",
    "embeddings = HuggingFaceEmbeddings()"
   ]
  },
  {
   "cell_type": "code",
   "execution_count": 3,
   "metadata": {},
   "outputs": [],
   "source": [
    "# Section: Documents\n",
    "paragraphs = [\n",
    "    \"Artificial Intelligence (AI) is transforming healthcare by improving diagnostics, personalizing treatment plans, and enhancing patient outcomes. AI models can analyze vast amounts of medical data to predict disease patterns and assist in early detection of conditions like cancer and heart disease. Through natural language processing, AI is also improving administrative tasks by automating medical records management, reducing errors, and streamlining workflows for healthcare professionals.\",\n",
    "    \"The shift toward renewable energy sources is critical in addressing climate change and achieving sustainability goals. Solar, wind, and hydropower are leading the renewable energy revolution, reducing reliance on fossil fuels and lowering greenhouse gas emissions. Innovations in energy storage technologies, such as advanced batteries, are enhancing the efficiency of renewable energy systems, making clean energy more accessible and affordable for all.\",\n",
    "    \"Blockchain technology is revolutionizing the financial sector by providing a decentralized and secure framework for transactions. It eliminates the need for intermediaries, reduces fraud, and enhances transparency in financial operations. Cryptocurrencies like Bitcoin and Ethereum leverage blockchain to facilitate peer-to-peer payments, while smart contracts enable automated and tamper-proof agreements between parties, reducing the risk of disputes.\",\n",
    "    \"Mental health plays a pivotal role in student success and overall well-being. Schools are increasingly incorporating mental health programs to support students dealing with anxiety, depression, and other psychological challenges. By promoting emotional resilience and providing resources for counseling, educational institutions are creating environments where students can thrive both academically and personally.\",\n",
    "    \"Autonomous vehicles (AVs) are an integral component of the smart cities of the future. By utilizing AI and machine learning algorithms, AVs can navigate traffic, avoid collisions, and reduce congestion in urban environments. Smart cities are leveraging connected infrastructure, such as traffic sensors and smart grids, to ensure seamless communication between vehicles and the urban landscape, creating safer and more efficient transportation networks.\",\n",
    "    \"As the Internet of Things (IoT) expands, cybersecurity challenges are becoming more complex. With billions of devices connected to the internet, from smart home appliances to industrial machines, protecting sensitive data and maintaining secure networks is crucial. Hackers can exploit vulnerabilities in IoT devices, leading to potential breaches in personal privacy and critical infrastructure. Advanced encryption methods and multi-factor authentication are being deployed to safeguard IoT ecosystems.\",\n",
    "    \"Human interest in space exploration has reached new heights with initiatives aiming to colonize Mars and beyond. Space agencies like NASA and private companies like SpaceX are developing advanced spacecraft to explore distant planets. Colonizing space offers opportunities for scientific discovery, resource utilization, and potentially securing humanity’s future. However, it also presents challenges in terms of life support systems, long-duration space travel, and sustainable living in extraterrestrial environments.\",\n",
    "    \"The rise of digital marketing has significantly influenced consumer behavior. With the increasing use of social media, search engines, and email marketing, brands are utilizing targeted advertising strategies to engage with customers. Data analytics and AI tools provide insights into consumer preferences, enabling businesses to personalize their marketing efforts and improve conversion rates. The shift from traditional to digital media is shaping the future of marketing and customer interactions.\",\n",
    "]"
   ]
  },
  {
   "cell_type": "code",
   "execution_count": 4,
   "metadata": {},
   "outputs": [],
   "source": [
    "# Section: Metadata\n",
    "documents = [\n",
    "    Document(\n",
    "        page_content=paragraphs[0],\n",
    "        metadata={\"source\": \"healthcare_ai_article\", \"topic\": \"Artificial Intelligence\", \"subtopic\": \"Healthcare\"}\n",
    "    ),\n",
    "    Document(\n",
    "        page_content=paragraphs[1],\n",
    "        metadata={\"source\": \"sustainability_journal\", \"topic\": \"Renewable Energy\", \"subtopic\": \"Sustainability\"}\n",
    "    ),\n",
    "    Document(\n",
    "        page_content=paragraphs[2],\n",
    "        metadata={\"source\": \"blockchain_whitepaper\", \"topic\": \"Blockchain\", \"subtopic\": \"Financial Security\"}\n",
    "    ),\n",
    "    Document(\n",
    "        page_content=paragraphs[3],\n",
    "        metadata={\"source\": \"education_magazine\", \"topic\": \"Mental Health\", \"subtopic\": \"Education\"}\n",
    "    ),\n",
    "    Document(\n",
    "        page_content=paragraphs[4],\n",
    "        metadata={\"source\": \"autonomous_cars_report\", \"topic\": \"Autonomous Vehicles\", \"subtopic\": \"Smart Cities\"}\n",
    "    ),\n",
    "    Document(\n",
    "        page_content=paragraphs[5],\n",
    "        metadata={\"source\": \"cybersecurity_news\", \"topic\": \"Cybersecurity\", \"subtopic\": \"Internet of Things\"}\n",
    "    ),\n",
    "    Document(\n",
    "        page_content=paragraphs[6],\n",
    "        metadata={\"source\": \"space_exploration_journal\", \"topic\": \"Space Exploration\", \"subtopic\": \"Colonization\"}\n",
    "    ),\n",
    "    Document(\n",
    "        page_content=paragraphs[7],\n",
    "        metadata={\"source\": \"marketing_analysis\", \"topic\": \"Digital Marketing\", \"subtopic\": \"Consumer Behavior\"}\n",
    "    ),\n",
    "]"
   ]
  },
  {
   "cell_type": "code",
   "execution_count": 5,
   "metadata": {},
   "outputs": [
    {
     "name": "stdout",
     "output_type": "stream",
     "text": [
      "<class 'langchain_chroma.vectorstores.Chroma'>\n"
     ]
    }
   ],
   "source": [
    "# Section: Database\n",
    "chroma_db = Chroma.from_documents(\n",
    "    documents=documents,\n",
    "    embedding=HuggingFaceEmbeddings(),\n",
    "    collection_name=\"vector_store_with_metadata\",\n",
    ")\n",
    "print(type(chroma_db))"
   ]
  },
  {
   "cell_type": "code",
   "execution_count": 6,
   "metadata": {},
   "outputs": [],
   "source": [
    "# Section: Queries\n",
    "queries = [\n",
    "    \"How is AI improving healthcare diagnostics and patient outcomes?\",\n",
    "    \"What are the benefits of renewable energy sources like solar and wind?\",\n",
    "    \"How does blockchain technology enhance financial security and transparency?\",\n",
    "    \"What is the importance of mental health programs in schools for student success?\",\n",
    "    \"How do autonomous vehicles contribute to smart cities and urban transportation?\",\n",
    "    \"What are the cybersecurity risks associated with the Internet of Things (IoT)?\",\n",
    "    \"What are the challenges and opportunities of colonizing Mars and other planets?\",\n",
    "    \"How is digital marketing influencing consumer behavior in the age of social media?\",\n",
    "]"
   ]
  },
  {
   "cell_type": "code",
   "execution_count": 7,
   "metadata": {},
   "outputs": [
    {
     "name": "stdout",
     "output_type": "stream",
     "text": [
      "Chroma Search Results:\n",
      "Result 0:\n",
      "Artificial Intelligence (AI) is transforming healthcare by improving diagnostics, personalizing treatment plans, and enhancing patient outcomes. AI models can analyze vast amounts of medical data to predict disease patterns and assist in early detection of conditions like cancer and heart disease. Through natural language processing, AI is also improving administrative tasks by automating medical records management, reducing errors, and streamlining workflows for healthcare professionals.\n",
      "Result 1:\n",
      "Autonomous vehicles (AVs) are an integral component of the smart cities of the future. By utilizing AI and machine learning algorithms, AVs can navigate traffic, avoid collisions, and reduce congestion in urban environments. Smart cities are leveraging connected infrastructure, such as traffic sensors and smart grids, to ensure seamless communication between vehicles and the urban landscape, creating safer and more efficient transportation networks.\n",
      "Result 2:\n",
      "The rise of digital marketing has significantly influenced consumer behavior. With the increasing use of social media, search engines, and email marketing, brands are utilizing targeted advertising strategies to engage with customers. Data analytics and AI tools provide insights into consumer preferences, enabling businesses to personalize their marketing efforts and improve conversion rates. The shift from traditional to digital media is shaping the future of marketing and customer interactions.\n"
     ]
    }
   ],
   "source": [
    "# Section: Basic Search\n",
    "results = chroma_db.similarity_search(queries[0], k=3)\n",
    "print(\"Chroma Search Results:\")\n",
    "for i, doc in enumerate(results):\n",
    "    print(f\"Result {i}:\\n{doc.page_content}\")"
   ]
  },
  {
   "cell_type": "code",
   "execution_count": 8,
   "metadata": {},
   "outputs": [
    {
     "name": "stdout",
     "output_type": "stream",
     "text": [
      "\n",
      "Results with similarity scores:\n",
      "\n",
      "Document:\n",
      "Blockchain technology is revolutionizing the financial sector by providing a decentralized and secure framework for transactions. It eliminates the need for intermediaries, reduces fraud, and enhances transparency in financial operations. Cryptocurrencies like Bitcoin and Ethereum leverage blockchain to facilitate peer-to-peer payments, while smart contracts enable automated and tamper-proof agreements between parties, reducing the risk of disputes.\n",
      "Score: 0.5804454684257507\n",
      "\n",
      "Document:\n",
      "The shift toward renewable energy sources is critical in addressing climate change and achieving sustainability goals. Solar, wind, and hydropower are leading the renewable energy revolution, reducing reliance on fossil fuels and lowering greenhouse gas emissions. Innovations in energy storage technologies, such as advanced batteries, are enhancing the efficiency of renewable energy systems, making clean energy more accessible and affordable for all.\n",
      "Score: 1.6551332473754883\n"
     ]
    }
   ],
   "source": [
    "# Section: Search with Scores\n",
    "results_with_scores = chroma_db.similarity_search_with_score(queries[2], k=2)\n",
    "print(\"\\nResults with similarity scores:\")\n",
    "for doc, score in results_with_scores:\n",
    "    print(f\"\\nDocument:\\n{doc.page_content}\")\n",
    "    print(f\"Score: {score}\")"
   ]
  },
  {
   "cell_type": "code",
   "execution_count": 9,
   "metadata": {},
   "outputs": [
    {
     "name": "stdout",
     "output_type": "stream",
     "text": [
      "Filtered Results: [Document(metadata={'source': 'marketing_analysis', 'subtopic': 'Consumer Behavior', 'topic': 'Digital Marketing'}, page_content='The rise of digital marketing has significantly influenced consumer behavior. With the increasing use of social media, search engines, and email marketing, brands are utilizing targeted advertising strategies to engage with customers. Data analytics and AI tools provide insights into consumer preferences, enabling businesses to personalize their marketing efforts and improve conversion rates. The shift from traditional to digital media is shaping the future of marketing and customer interactions.')]\n"
     ]
    }
   ],
   "source": [
    "# Section: Metadata Filter\n",
    "filtered_results = chroma_db.similarity_search(\n",
    "    query=queries[-1],\n",
    "    filter={\"topic\": \"Digital Marketing\"},\n",
    ")\n",
    "print(\"Filtered Results:\", filtered_results)"
   ]
  },
  {
   "cell_type": "code",
   "execution_count": 10,
   "metadata": {},
   "outputs": [
    {
     "name": "stdout",
     "output_type": "stream",
     "text": [
      "48\n"
     ]
    }
   ],
   "source": [
    "# Section: Save and Load\n",
    "chroma_db.delete_collection()\n",
    "persist_directory = \"./chroma_db\"\n",
    "chroma_db = Chroma.from_documents(\n",
    "    documents=documents,\n",
    "    embedding=HuggingFaceEmbeddings(),\n",
    "    collection_name=\"vector_store_with_metadata\",\n",
    "    persist_directory=persist_directory,\n",
    ")\n",
    "chroma_db_from_directory = Chroma(\n",
    "    persist_directory=persist_directory,\n",
    "    collection_name=\"vector_store_with_metadata\",\n",
    "    embedding_function=embeddings,\n",
    ")\n",
    "print(chroma_db_from_directory._collection.count())"
   ]
  },
  {
   "cell_type": "code",
   "execution_count": 11,
   "metadata": {},
   "outputs": [
    {
     "data": {
      "text/plain": [
       "[Document(metadata={'source': 'healthcare_ai_article', 'subtopic': 'Healthcare', 'topic': 'Artificial Intelligence'}, page_content='Artificial Intelligence (AI) is transforming healthcare by improving diagnostics, personalizing treatment plans, and enhancing patient outcomes. AI models can analyze vast amounts of medical data to predict disease patterns and assist in early detection of conditions like cancer and heart disease. Through natural language processing, AI is also improving administrative tasks by automating medical records management, reducing errors, and streamlining workflows for healthcare professionals.')]"
      ]
     },
     "execution_count": 11,
     "metadata": {},
     "output_type": "execute_result"
    }
   ],
   "source": [
    "# Section: Retriever\n",
    "retriever = chroma_db_from_directory.as_retriever(search_type=\"mmr\", search_kwargs={\"k\": 1, \"fetch_k\": 3})\n",
    "retriever.invoke(queries[0])"
   ]
  }
 ],
 "metadata": {
  "kernelspec": {
   "display_name": "Python 3",
   "language": "python",
   "name": "python3"
  },
  "language_info": {
   "codemirror_mode": {
    "name": "ipython",
    "version": 3
   },
   "file_extension": ".py",
   "mimetype": "text/x-python",
   "name": "python",
   "nbconvert_exporter": "python",
   "pygments_lexer": "ipython3",
   "version": "3.10.12"
  }
 },
 "nbformat": 4,
 "nbformat_minor": 2
}
