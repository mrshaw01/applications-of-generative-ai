{
 "cells": [
  {
   "cell_type": "code",
   "execution_count": 1,
   "metadata": {},
   "outputs": [
    {
     "data": {
      "text/plain": [
       "'\\nThis notebook demonstrates using LangChain with AWS Bedrock to run a Llama 3.1 70B instruct model.\\nIt uses the langchain_aws.chat_models and langchain_core libraries to create prompt templates\\nand execute them against the model.\\n'"
      ]
     },
     "execution_count": 1,
     "metadata": {},
     "output_type": "execute_result"
    }
   ],
   "source": [
    "## Introduction\n",
    "\"\"\"\n",
    "This notebook demonstrates using LangChain with AWS Bedrock to run a Llama 3.1 70B instruct model.\n",
    "It uses the langchain_aws.chat_models and langchain_core libraries to create prompt templates\n",
    "and execute them against the model.\n",
    "\"\"\""
   ]
  },
  {
   "cell_type": "code",
   "execution_count": 2,
   "metadata": {},
   "outputs": [
    {
     "name": "stdout",
     "output_type": "stream",
     "text": [
      "content=\"\\n\\nHello! I'm just a computer program, so I don't have feelings, but thanks for asking! How can I assist you today?\" additional_kwargs={} response_metadata={'ResponseMetadata': {'RequestId': '8630b7d2-fcf6-435f-967c-c444b2bce666', 'HTTPStatusCode': 200, 'HTTPHeaders': {'date': 'Tue, 04 Mar 2025 09:29:51 GMT', 'content-type': 'application/json', 'content-length': '298', 'connection': 'keep-alive', 'x-amzn-requestid': '8630b7d2-fcf6-435f-967c-c444b2bce666'}, 'RetryAttempts': 0}, 'stopReason': 'end_turn', 'metrics': {'latencyMs': 1507}} id='run-463278f2-4631-42db-8c8b-e851748890d9-0' usage_metadata={'input_tokens': 20, 'output_tokens': 30, 'total_tokens': 50}\n"
     ]
    }
   ],
   "source": [
    "## Connecting to AWS Bedrock\n",
    "from langchain_aws.chat_models import ChatBedrockConverse\n",
    "\n",
    "model = ChatBedrockConverse(model=\"us.meta.llama3-1-70b-instruct-v1:0\", region_name=\"us-east-1\")\n",
    "\n",
    "response = model.invoke(\"Hello, how are you?\")\n",
    "print(response)"
   ]
  },
  {
   "cell_type": "code",
   "execution_count": 3,
   "metadata": {},
   "outputs": [
    {
     "name": "stdout",
     "output_type": "stream",
     "text": [
      "System: You are a helpful and concise assistant.\n",
      "Human: Generate a list of 4 high-level concepts required to learn the Python programming language.\n"
     ]
    }
   ],
   "source": [
    "## Prompt Setup\n",
    "from langchain_core.prompts import ChatPromptTemplate\n",
    "from langchain_core.prompts.chat import HumanMessagePromptTemplate, SystemMessagePromptTemplate\n",
    "\n",
    "sys = SystemMessagePromptTemplate.from_template(\"You are a helpful and concise assistant.\")\n",
    "human = HumanMessagePromptTemplate.from_template(\n",
    "    \"Generate a list of 4 high-level concepts required to learn the {language} programming language.\"\n",
    ")\n",
    "\n",
    "query = ChatPromptTemplate.from_messages([sys, human])\n",
    "query_values = {\"language\": \"Python\"}\n",
    "\n",
    "print(query.format(**query_values))"
   ]
  },
  {
   "cell_type": "code",
   "execution_count": 4,
   "metadata": {},
   "outputs": [
    {
     "data": {
      "text/plain": [
       "ChatPromptTemplate(input_variables=['language'], input_types={}, partial_variables={}, messages=[SystemMessagePromptTemplate(prompt=PromptTemplate(input_variables=[], input_types={}, partial_variables={}, template='You are a helpful and concise assistant.'), additional_kwargs={}), HumanMessagePromptTemplate(prompt=PromptTemplate(input_variables=['language'], input_types={}, partial_variables={}, template='Generate a list of 4 high-level concepts required to learn the {language} programming language.'), additional_kwargs={})])\n",
       "| ChatBedrockConverse(disable_streaming='tool_calling', client=<botocore.client.BedrockRuntime object at 0x71012e364880>, model_id='us.meta.llama3-1-70b-instruct-v1:0', region_name='us-east-1', provider='us', supports_tool_choice_values=())"
      ]
     },
     "execution_count": 4,
     "metadata": {},
     "output_type": "execute_result"
    }
   ],
   "source": [
    "## Creating a Chain\n",
    "chain = query | model\n",
    "chain"
   ]
  },
  {
   "cell_type": "code",
   "execution_count": 5,
   "metadata": {},
   "outputs": [
    {
     "name": "stdout",
     "output_type": "stream",
     "text": [
      "content='\\n\\nHere are 4 high-level concepts required to learn the Python programming language:\\n\\n1. **Variables, Data Types, and Operators**: Understanding how to declare and use variables, as well as the different data types (e.g., strings, integers, lists) and operators (e.g., arithmetic, comparison, logical) in Python.\\n2. **Control Structures and Loops**: Learning how to control the flow of a program using conditional statements (e.g., if/else), loops (e.g., for, while), and functions to organize and reuse code.\\n3. **Functions and Modules**: Understanding how to define and use reusable blocks of code (functions) and how to organize and import code from external modules to simplify programming and improve code reuse.\\n4. **Data Structures and File Input/Output**: Familiarizing yourself with common data structures (e.g., lists, dictionaries, sets) and learning how to read and write data from files and other external sources to interact with the outside world.\\n\\nMastering these fundamental concepts will provide a solid foundation for learning more advanced Python topics and building practical applications.' additional_kwargs={} response_metadata={'ResponseMetadata': {'RequestId': '36ce265c-e6a6-48f2-9f72-c208e55a4464', 'HTTPStatusCode': 200, 'HTTPHeaders': {'date': 'Tue, 04 Mar 2025 09:30:19 GMT', 'content-type': 'application/json', 'content-length': '1302', 'connection': 'keep-alive', 'x-amzn-requestid': '36ce265c-e6a6-48f2-9f72-c208e55a4464'}, 'RetryAttempts': 0}, 'stopReason': 'end_turn', 'metrics': {'latencyMs': 7673}} id='run-55585971-bb82-49dd-8142-2458ccaa9666-0' usage_metadata={'input_tokens': 39, 'output_tokens': 223, 'total_tokens': 262}\n"
     ]
    }
   ],
   "source": [
    "## Final Execution\n",
    "response = chain.invoke(query_values)\n",
    "print(response)"
   ]
  }
 ],
 "metadata": {
  "kernelspec": {
   "display_name": "Python 3",
   "language": "python",
   "name": "python3"
  },
  "language_info": {
   "codemirror_mode": {
    "name": "ipython",
    "version": 3
   },
   "file_extension": ".py",
   "mimetype": "text/x-python",
   "name": "python",
   "nbconvert_exporter": "python",
   "pygments_lexer": "ipython3",
   "version": "3.10.12"
  }
 },
 "nbformat": 4,
 "nbformat_minor": 2
}
